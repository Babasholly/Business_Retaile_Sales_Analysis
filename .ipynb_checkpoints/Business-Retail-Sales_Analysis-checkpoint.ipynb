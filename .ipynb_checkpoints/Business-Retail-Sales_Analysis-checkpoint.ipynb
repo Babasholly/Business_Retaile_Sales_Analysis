{
 "cells": [
  {
   "cell_type": "markdown",
   "id": "03c760f6",
   "metadata": {},
   "source": [
    "#### **Problem Statement**\n",
    "Due to economic down turn the retail business wish to cut down cost and increase their sales. There are various possible options but with respect to this analysis we will employ two options, as stated below:\n",
    "\n",
    "- Enhance customer Experience by improving satisfaction\n",
    "- Offer Discounts\n"
   ]
  },
  {
   "cell_type": "markdown",
   "id": "dc2bc240",
   "metadata": {},
   "source": [
    "#### **Problem Framing**\n",
    " To optimize sale we want to check whether our options stated above could change the narative \n",
    " of the business and if this has worked in the past. In doing so we need a dataset that has the following;\n",
    "\n",
    "- Discounts\n",
    "- Gross Sales\n",
    "- Other related features as may be required\n",
    "\n",
    "### Once the dataset is provided, we will explore the data taking this steps:\n",
    "\n",
    "- Explore and clean the data \n",
    "- Provide answers to question in relation to the problem identified\n",
    "- Then we summarize our findings\n"
   ]
  },
  {
   "cell_type": "code",
   "execution_count": 1,
   "id": "7058850d",
   "metadata": {},
   "outputs": [],
   "source": [
    "import pandas as pd\n",
    "import numpy as np\n",
    "import matplotlib.pyplot as plt\n",
    "import seaborn as sb\n",
    "\n",
    "%matplotlib inline"
   ]
  },
  {
   "cell_type": "code",
   "execution_count": 2,
   "id": "e7521be6",
   "metadata": {},
   "outputs": [],
   "source": [
    "brs_df = pd.read_csv('business.retailsales2.csv') # after filling in the dataset we profile the data"
   ]
  },
  {
   "cell_type": "markdown",
   "id": "52159701",
   "metadata": {},
   "source": [
    "####  Data Exploration / Profiling "
   ]
  },
  {
   "cell_type": "code",
   "execution_count": 3,
   "id": "1bc2f522",
   "metadata": {},
   "outputs": [
    {
     "data": {
      "text/html": [
       "<div>\n",
       "<style scoped>\n",
       "    .dataframe tbody tr th:only-of-type {\n",
       "        vertical-align: middle;\n",
       "    }\n",
       "\n",
       "    .dataframe tbody tr th {\n",
       "        vertical-align: top;\n",
       "    }\n",
       "\n",
       "    .dataframe thead th {\n",
       "        text-align: right;\n",
       "    }\n",
       "</style>\n",
       "<table border=\"1\" class=\"dataframe\">\n",
       "  <thead>\n",
       "    <tr style=\"text-align: right;\">\n",
       "      <th></th>\n",
       "      <th>Month</th>\n",
       "      <th>Year</th>\n",
       "      <th>Total Orders</th>\n",
       "      <th>Gross Sales</th>\n",
       "      <th>Discounts</th>\n",
       "      <th>Returns</th>\n",
       "      <th>Net Sales</th>\n",
       "      <th>Shipping</th>\n",
       "      <th>Total Sales</th>\n",
       "    </tr>\n",
       "  </thead>\n",
       "  <tbody>\n",
       "    <tr>\n",
       "      <th>0</th>\n",
       "      <td>January</td>\n",
       "      <td>2017</td>\n",
       "      <td>73</td>\n",
       "      <td>8861.5</td>\n",
       "      <td>-129.40</td>\n",
       "      <td>-448.45</td>\n",
       "      <td>8283.65</td>\n",
       "      <td>1088.30</td>\n",
       "      <td>9371.95</td>\n",
       "    </tr>\n",
       "    <tr>\n",
       "      <th>1</th>\n",
       "      <td>February</td>\n",
       "      <td>2017</td>\n",
       "      <td>56</td>\n",
       "      <td>6908.5</td>\n",
       "      <td>-104.70</td>\n",
       "      <td>-416.20</td>\n",
       "      <td>6387.60</td>\n",
       "      <td>892.45</td>\n",
       "      <td>7280.05</td>\n",
       "    </tr>\n",
       "    <tr>\n",
       "      <th>2</th>\n",
       "      <td>March</td>\n",
       "      <td>2017</td>\n",
       "      <td>60</td>\n",
       "      <td>5778.5</td>\n",
       "      <td>-172.20</td>\n",
       "      <td>-1017.20</td>\n",
       "      <td>4589.10</td>\n",
       "      <td>707.43</td>\n",
       "      <td>5296.53</td>\n",
       "    </tr>\n",
       "    <tr>\n",
       "      <th>3</th>\n",
       "      <td>April</td>\n",
       "      <td>2017</td>\n",
       "      <td>70</td>\n",
       "      <td>8814.0</td>\n",
       "      <td>-281.40</td>\n",
       "      <td>0.00</td>\n",
       "      <td>8532.60</td>\n",
       "      <td>1068.30</td>\n",
       "      <td>9600.90</td>\n",
       "    </tr>\n",
       "    <tr>\n",
       "      <th>4</th>\n",
       "      <td>May</td>\n",
       "      <td>2017</td>\n",
       "      <td>54</td>\n",
       "      <td>6677.0</td>\n",
       "      <td>-185.75</td>\n",
       "      <td>-253.80</td>\n",
       "      <td>6237.45</td>\n",
       "      <td>866.46</td>\n",
       "      <td>7103.91</td>\n",
       "    </tr>\n",
       "  </tbody>\n",
       "</table>\n",
       "</div>"
      ],
      "text/plain": [
       "      Month  Year  Total Orders  Gross Sales  Discounts  Returns  Net Sales  \\\n",
       "0   January  2017            73       8861.5    -129.40  -448.45    8283.65   \n",
       "1  February  2017            56       6908.5    -104.70  -416.20    6387.60   \n",
       "2     March  2017            60       5778.5    -172.20 -1017.20    4589.10   \n",
       "3     April  2017            70       8814.0    -281.40     0.00    8532.60   \n",
       "4       May  2017            54       6677.0    -185.75  -253.80    6237.45   \n",
       "\n",
       "   Shipping  Total Sales  \n",
       "0   1088.30      9371.95  \n",
       "1    892.45      7280.05  \n",
       "2    707.43      5296.53  \n",
       "3   1068.30      9600.90  \n",
       "4    866.46      7103.91  "
      ]
     },
     "execution_count": 3,
     "metadata": {},
     "output_type": "execute_result"
    }
   ],
   "source": [
    "brs_df.head()"
   ]
  },
  {
   "cell_type": "markdown",
   "id": "ca4cf8cb",
   "metadata": {},
   "source": [
    "Above displayed the first five rows in the dataset"
   ]
  },
  {
   "cell_type": "code",
   "execution_count": 4,
   "id": "b24df0ae",
   "metadata": {},
   "outputs": [
    {
     "data": {
      "text/html": [
       "<div>\n",
       "<style scoped>\n",
       "    .dataframe tbody tr th:only-of-type {\n",
       "        vertical-align: middle;\n",
       "    }\n",
       "\n",
       "    .dataframe tbody tr th {\n",
       "        vertical-align: top;\n",
       "    }\n",
       "\n",
       "    .dataframe thead th {\n",
       "        text-align: right;\n",
       "    }\n",
       "</style>\n",
       "<table border=\"1\" class=\"dataframe\">\n",
       "  <thead>\n",
       "    <tr style=\"text-align: right;\">\n",
       "      <th></th>\n",
       "      <th>Month</th>\n",
       "      <th>Year</th>\n",
       "      <th>Total Orders</th>\n",
       "      <th>Gross Sales</th>\n",
       "      <th>Discounts</th>\n",
       "      <th>Returns</th>\n",
       "      <th>Net Sales</th>\n",
       "      <th>Shipping</th>\n",
       "      <th>Total Sales</th>\n",
       "    </tr>\n",
       "  </thead>\n",
       "  <tbody>\n",
       "    <tr>\n",
       "      <th>31</th>\n",
       "      <td>August</td>\n",
       "      <td>2019</td>\n",
       "      <td>105</td>\n",
       "      <td>8839.50</td>\n",
       "      <td>-201.67</td>\n",
       "      <td>-84.37</td>\n",
       "      <td>8553.46</td>\n",
       "      <td>1724.75</td>\n",
       "      <td>10278.21</td>\n",
       "    </tr>\n",
       "    <tr>\n",
       "      <th>32</th>\n",
       "      <td>September</td>\n",
       "      <td>2019</td>\n",
       "      <td>88</td>\n",
       "      <td>9077.45</td>\n",
       "      <td>-354.89</td>\n",
       "      <td>-853.35</td>\n",
       "      <td>7869.21</td>\n",
       "      <td>1567.65</td>\n",
       "      <td>9436.86</td>\n",
       "    </tr>\n",
       "    <tr>\n",
       "      <th>33</th>\n",
       "      <td>October</td>\n",
       "      <td>2019</td>\n",
       "      <td>97</td>\n",
       "      <td>9132.25</td>\n",
       "      <td>-279.42</td>\n",
       "      <td>-1572.55</td>\n",
       "      <td>7280.28</td>\n",
       "      <td>1631.25</td>\n",
       "      <td>8911.53</td>\n",
       "    </tr>\n",
       "    <tr>\n",
       "      <th>34</th>\n",
       "      <td>November</td>\n",
       "      <td>2019</td>\n",
       "      <td>272</td>\n",
       "      <td>23997.90</td>\n",
       "      <td>-776.84</td>\n",
       "      <td>-364.51</td>\n",
       "      <td>22856.55</td>\n",
       "      <td>4824.75</td>\n",
       "      <td>27681.30</td>\n",
       "    </tr>\n",
       "    <tr>\n",
       "      <th>35</th>\n",
       "      <td>December</td>\n",
       "      <td>2019</td>\n",
       "      <td>342</td>\n",
       "      <td>31183.90</td>\n",
       "      <td>-2269.51</td>\n",
       "      <td>-1311.18</td>\n",
       "      <td>27603.21</td>\n",
       "      <td>5703.25</td>\n",
       "      <td>33306.46</td>\n",
       "    </tr>\n",
       "  </tbody>\n",
       "</table>\n",
       "</div>"
      ],
      "text/plain": [
       "        Month  Year  Total Orders  Gross Sales  Discounts  Returns  Net Sales  \\\n",
       "31     August  2019           105      8839.50    -201.67   -84.37    8553.46   \n",
       "32  September  2019            88      9077.45    -354.89  -853.35    7869.21   \n",
       "33    October  2019            97      9132.25    -279.42 -1572.55    7280.28   \n",
       "34   November  2019           272     23997.90    -776.84  -364.51   22856.55   \n",
       "35   December  2019           342     31183.90   -2269.51 -1311.18   27603.21   \n",
       "\n",
       "    Shipping  Total Sales  \n",
       "31   1724.75     10278.21  \n",
       "32   1567.65      9436.86  \n",
       "33   1631.25      8911.53  \n",
       "34   4824.75     27681.30  \n",
       "35   5703.25     33306.46  "
      ]
     },
     "execution_count": 4,
     "metadata": {},
     "output_type": "execute_result"
    }
   ],
   "source": [
    "brs_df.tail()"
   ]
  },
  {
   "cell_type": "markdown",
   "id": "98de6670",
   "metadata": {},
   "source": [
    "Above displayed the last five rows in the dataset"
   ]
  },
  {
   "cell_type": "code",
   "execution_count": 5,
   "id": "e89093da",
   "metadata": {},
   "outputs": [
    {
     "data": {
      "text/html": [
       "<div>\n",
       "<style scoped>\n",
       "    .dataframe tbody tr th:only-of-type {\n",
       "        vertical-align: middle;\n",
       "    }\n",
       "\n",
       "    .dataframe tbody tr th {\n",
       "        vertical-align: top;\n",
       "    }\n",
       "\n",
       "    .dataframe thead th {\n",
       "        text-align: right;\n",
       "    }\n",
       "</style>\n",
       "<table border=\"1\" class=\"dataframe\">\n",
       "  <thead>\n",
       "    <tr style=\"text-align: right;\">\n",
       "      <th></th>\n",
       "      <th>Month</th>\n",
       "      <th>Year</th>\n",
       "      <th>Total Orders</th>\n",
       "      <th>Gross Sales</th>\n",
       "      <th>Discounts</th>\n",
       "      <th>Returns</th>\n",
       "      <th>Net Sales</th>\n",
       "      <th>Shipping</th>\n",
       "      <th>Total Sales</th>\n",
       "    </tr>\n",
       "  </thead>\n",
       "  <tbody>\n",
       "    <tr>\n",
       "      <th>0</th>\n",
       "      <td>January</td>\n",
       "      <td>2017</td>\n",
       "      <td>73</td>\n",
       "      <td>8861.50</td>\n",
       "      <td>-129.40</td>\n",
       "      <td>-448.45</td>\n",
       "      <td>8283.65</td>\n",
       "      <td>1088.30</td>\n",
       "      <td>9371.95</td>\n",
       "    </tr>\n",
       "    <tr>\n",
       "      <th>1</th>\n",
       "      <td>February</td>\n",
       "      <td>2017</td>\n",
       "      <td>56</td>\n",
       "      <td>6908.50</td>\n",
       "      <td>-104.70</td>\n",
       "      <td>-416.20</td>\n",
       "      <td>6387.60</td>\n",
       "      <td>892.45</td>\n",
       "      <td>7280.05</td>\n",
       "    </tr>\n",
       "    <tr>\n",
       "      <th>2</th>\n",
       "      <td>March</td>\n",
       "      <td>2017</td>\n",
       "      <td>60</td>\n",
       "      <td>5778.50</td>\n",
       "      <td>-172.20</td>\n",
       "      <td>-1017.20</td>\n",
       "      <td>4589.10</td>\n",
       "      <td>707.43</td>\n",
       "      <td>5296.53</td>\n",
       "    </tr>\n",
       "    <tr>\n",
       "      <th>3</th>\n",
       "      <td>April</td>\n",
       "      <td>2017</td>\n",
       "      <td>70</td>\n",
       "      <td>8814.00</td>\n",
       "      <td>-281.40</td>\n",
       "      <td>0.00</td>\n",
       "      <td>8532.60</td>\n",
       "      <td>1068.30</td>\n",
       "      <td>9600.90</td>\n",
       "    </tr>\n",
       "    <tr>\n",
       "      <th>4</th>\n",
       "      <td>May</td>\n",
       "      <td>2017</td>\n",
       "      <td>54</td>\n",
       "      <td>6677.00</td>\n",
       "      <td>-185.75</td>\n",
       "      <td>-253.80</td>\n",
       "      <td>6237.45</td>\n",
       "      <td>866.46</td>\n",
       "      <td>7103.91</td>\n",
       "    </tr>\n",
       "    <tr>\n",
       "      <th>5</th>\n",
       "      <td>June</td>\n",
       "      <td>2017</td>\n",
       "      <td>68</td>\n",
       "      <td>9621.50</td>\n",
       "      <td>-234.45</td>\n",
       "      <td>-17.50</td>\n",
       "      <td>9369.55</td>\n",
       "      <td>1204.32</td>\n",
       "      <td>10573.87</td>\n",
       "    </tr>\n",
       "    <tr>\n",
       "      <th>6</th>\n",
       "      <td>July</td>\n",
       "      <td>2017</td>\n",
       "      <td>66</td>\n",
       "      <td>6480.00</td>\n",
       "      <td>-51.50</td>\n",
       "      <td>-469.20</td>\n",
       "      <td>5959.30</td>\n",
       "      <td>807.36</td>\n",
       "      <td>6766.66</td>\n",
       "    </tr>\n",
       "    <tr>\n",
       "      <th>7</th>\n",
       "      <td>August</td>\n",
       "      <td>2017</td>\n",
       "      <td>55</td>\n",
       "      <td>8025.00</td>\n",
       "      <td>-258.90</td>\n",
       "      <td>-26.00</td>\n",
       "      <td>7740.10</td>\n",
       "      <td>843.46</td>\n",
       "      <td>8583.56</td>\n",
       "    </tr>\n",
       "    <tr>\n",
       "      <th>8</th>\n",
       "      <td>September</td>\n",
       "      <td>2017</td>\n",
       "      <td>68</td>\n",
       "      <td>7075.00</td>\n",
       "      <td>-61.70</td>\n",
       "      <td>-281.00</td>\n",
       "      <td>6732.30</td>\n",
       "      <td>907.32</td>\n",
       "      <td>7639.62</td>\n",
       "    </tr>\n",
       "    <tr>\n",
       "      <th>9</th>\n",
       "      <td>October</td>\n",
       "      <td>2017</td>\n",
       "      <td>59</td>\n",
       "      <td>5720.00</td>\n",
       "      <td>-88.00</td>\n",
       "      <td>-305.00</td>\n",
       "      <td>5327.00</td>\n",
       "      <td>695.42</td>\n",
       "      <td>6022.42</td>\n",
       "    </tr>\n",
       "    <tr>\n",
       "      <th>10</th>\n",
       "      <td>November</td>\n",
       "      <td>2017</td>\n",
       "      <td>91</td>\n",
       "      <td>13025.00</td>\n",
       "      <td>-131.30</td>\n",
       "      <td>-323.85</td>\n",
       "      <td>12569.85</td>\n",
       "      <td>1555.10</td>\n",
       "      <td>14124.95</td>\n",
       "    </tr>\n",
       "    <tr>\n",
       "      <th>11</th>\n",
       "      <td>December</td>\n",
       "      <td>2017</td>\n",
       "      <td>116</td>\n",
       "      <td>10356.05</td>\n",
       "      <td>-149.85</td>\n",
       "      <td>-414.20</td>\n",
       "      <td>9792.00</td>\n",
       "      <td>1340.85</td>\n",
       "      <td>11132.85</td>\n",
       "    </tr>\n",
       "    <tr>\n",
       "      <th>12</th>\n",
       "      <td>January</td>\n",
       "      <td>2018</td>\n",
       "      <td>83</td>\n",
       "      <td>8923.00</td>\n",
       "      <td>-217.10</td>\n",
       "      <td>-26.25</td>\n",
       "      <td>8679.65</td>\n",
       "      <td>1180.18</td>\n",
       "      <td>9859.83</td>\n",
       "    </tr>\n",
       "    <tr>\n",
       "      <th>13</th>\n",
       "      <td>February</td>\n",
       "      <td>2018</td>\n",
       "      <td>69</td>\n",
       "      <td>6529.20</td>\n",
       "      <td>-161.35</td>\n",
       "      <td>-118.15</td>\n",
       "      <td>6249.70</td>\n",
       "      <td>908.91</td>\n",
       "      <td>7158.61</td>\n",
       "    </tr>\n",
       "    <tr>\n",
       "      <th>14</th>\n",
       "      <td>March</td>\n",
       "      <td>2018</td>\n",
       "      <td>64</td>\n",
       "      <td>7442.70</td>\n",
       "      <td>-226.82</td>\n",
       "      <td>-8.80</td>\n",
       "      <td>7207.08</td>\n",
       "      <td>1226.92</td>\n",
       "      <td>8434.00</td>\n",
       "    </tr>\n",
       "    <tr>\n",
       "      <th>15</th>\n",
       "      <td>April</td>\n",
       "      <td>2018</td>\n",
       "      <td>81</td>\n",
       "      <td>9406.35</td>\n",
       "      <td>-232.28</td>\n",
       "      <td>-40.00</td>\n",
       "      <td>9134.07</td>\n",
       "      <td>1387.56</td>\n",
       "      <td>10521.63</td>\n",
       "    </tr>\n",
       "    <tr>\n",
       "      <th>16</th>\n",
       "      <td>May</td>\n",
       "      <td>2018</td>\n",
       "      <td>82</td>\n",
       "      <td>7493.90</td>\n",
       "      <td>-221.25</td>\n",
       "      <td>-1448.02</td>\n",
       "      <td>5824.63</td>\n",
       "      <td>1234.95</td>\n",
       "      <td>7059.58</td>\n",
       "    </tr>\n",
       "    <tr>\n",
       "      <th>17</th>\n",
       "      <td>June</td>\n",
       "      <td>2018</td>\n",
       "      <td>124</td>\n",
       "      <td>13260.80</td>\n",
       "      <td>-335.40</td>\n",
       "      <td>-1506.53</td>\n",
       "      <td>11418.87</td>\n",
       "      <td>2124.49</td>\n",
       "      <td>13543.36</td>\n",
       "    </tr>\n",
       "    <tr>\n",
       "      <th>18</th>\n",
       "      <td>July</td>\n",
       "      <td>2018</td>\n",
       "      <td>102</td>\n",
       "      <td>9274.95</td>\n",
       "      <td>-237.87</td>\n",
       "      <td>-689.98</td>\n",
       "      <td>8347.10</td>\n",
       "      <td>1627.03</td>\n",
       "      <td>9974.13</td>\n",
       "    </tr>\n",
       "    <tr>\n",
       "      <th>19</th>\n",
       "      <td>August</td>\n",
       "      <td>2018</td>\n",
       "      <td>82</td>\n",
       "      <td>7698.70</td>\n",
       "      <td>-140.57</td>\n",
       "      <td>-197.35</td>\n",
       "      <td>7360.78</td>\n",
       "      <td>1404.03</td>\n",
       "      <td>8764.81</td>\n",
       "    </tr>\n",
       "    <tr>\n",
       "      <th>20</th>\n",
       "      <td>September</td>\n",
       "      <td>2018</td>\n",
       "      <td>79</td>\n",
       "      <td>10582.85</td>\n",
       "      <td>-276.15</td>\n",
       "      <td>0.00</td>\n",
       "      <td>10306.70</td>\n",
       "      <td>1634.33</td>\n",
       "      <td>11941.03</td>\n",
       "    </tr>\n",
       "    <tr>\n",
       "      <th>21</th>\n",
       "      <td>October</td>\n",
       "      <td>2018</td>\n",
       "      <td>71</td>\n",
       "      <td>7014.50</td>\n",
       "      <td>-277.95</td>\n",
       "      <td>-294.75</td>\n",
       "      <td>6441.80</td>\n",
       "      <td>1262.45</td>\n",
       "      <td>7704.25</td>\n",
       "    </tr>\n",
       "    <tr>\n",
       "      <th>22</th>\n",
       "      <td>November</td>\n",
       "      <td>2018</td>\n",
       "      <td>140</td>\n",
       "      <td>12002.70</td>\n",
       "      <td>-414.45</td>\n",
       "      <td>-154.40</td>\n",
       "      <td>11433.85</td>\n",
       "      <td>2237.05</td>\n",
       "      <td>13670.90</td>\n",
       "    </tr>\n",
       "    <tr>\n",
       "      <th>23</th>\n",
       "      <td>December</td>\n",
       "      <td>2018</td>\n",
       "      <td>164</td>\n",
       "      <td>13683.50</td>\n",
       "      <td>-371.20</td>\n",
       "      <td>-928.35</td>\n",
       "      <td>12383.95</td>\n",
       "      <td>2552.20</td>\n",
       "      <td>14936.15</td>\n",
       "    </tr>\n",
       "    <tr>\n",
       "      <th>24</th>\n",
       "      <td>January</td>\n",
       "      <td>2019</td>\n",
       "      <td>87</td>\n",
       "      <td>7811.75</td>\n",
       "      <td>-261.97</td>\n",
       "      <td>-1250.35</td>\n",
       "      <td>6299.43</td>\n",
       "      <td>1313.78</td>\n",
       "      <td>7615.91</td>\n",
       "    </tr>\n",
       "    <tr>\n",
       "      <th>25</th>\n",
       "      <td>February</td>\n",
       "      <td>2019</td>\n",
       "      <td>63</td>\n",
       "      <td>6523.70</td>\n",
       "      <td>-288.70</td>\n",
       "      <td>-38.70</td>\n",
       "      <td>6196.30</td>\n",
       "      <td>1121.85</td>\n",
       "      <td>7318.15</td>\n",
       "    </tr>\n",
       "    <tr>\n",
       "      <th>26</th>\n",
       "      <td>March</td>\n",
       "      <td>2019</td>\n",
       "      <td>99</td>\n",
       "      <td>13075.50</td>\n",
       "      <td>-439.85</td>\n",
       "      <td>-981.00</td>\n",
       "      <td>11654.65</td>\n",
       "      <td>2115.10</td>\n",
       "      <td>13769.75</td>\n",
       "    </tr>\n",
       "    <tr>\n",
       "      <th>27</th>\n",
       "      <td>April</td>\n",
       "      <td>2019</td>\n",
       "      <td>92</td>\n",
       "      <td>6977.00</td>\n",
       "      <td>-285.40</td>\n",
       "      <td>-10.00</td>\n",
       "      <td>6681.60</td>\n",
       "      <td>1342.45</td>\n",
       "      <td>8024.05</td>\n",
       "    </tr>\n",
       "    <tr>\n",
       "      <th>28</th>\n",
       "      <td>May</td>\n",
       "      <td>2019</td>\n",
       "      <td>96</td>\n",
       "      <td>10082.25</td>\n",
       "      <td>-460.90</td>\n",
       "      <td>-173.35</td>\n",
       "      <td>9448.00</td>\n",
       "      <td>1768.20</td>\n",
       "      <td>11216.20</td>\n",
       "    </tr>\n",
       "    <tr>\n",
       "      <th>29</th>\n",
       "      <td>June</td>\n",
       "      <td>2019</td>\n",
       "      <td>85</td>\n",
       "      <td>7321.75</td>\n",
       "      <td>-186.02</td>\n",
       "      <td>-165.40</td>\n",
       "      <td>6970.33</td>\n",
       "      <td>1356.80</td>\n",
       "      <td>8327.13</td>\n",
       "    </tr>\n",
       "    <tr>\n",
       "      <th>30</th>\n",
       "      <td>July</td>\n",
       "      <td>2019</td>\n",
       "      <td>94</td>\n",
       "      <td>9739.20</td>\n",
       "      <td>-447.07</td>\n",
       "      <td>-908.75</td>\n",
       "      <td>8383.38</td>\n",
       "      <td>1631.40</td>\n",
       "      <td>10014.78</td>\n",
       "    </tr>\n",
       "    <tr>\n",
       "      <th>31</th>\n",
       "      <td>August</td>\n",
       "      <td>2019</td>\n",
       "      <td>105</td>\n",
       "      <td>8839.50</td>\n",
       "      <td>-201.67</td>\n",
       "      <td>-84.37</td>\n",
       "      <td>8553.46</td>\n",
       "      <td>1724.75</td>\n",
       "      <td>10278.21</td>\n",
       "    </tr>\n",
       "    <tr>\n",
       "      <th>32</th>\n",
       "      <td>September</td>\n",
       "      <td>2019</td>\n",
       "      <td>88</td>\n",
       "      <td>9077.45</td>\n",
       "      <td>-354.89</td>\n",
       "      <td>-853.35</td>\n",
       "      <td>7869.21</td>\n",
       "      <td>1567.65</td>\n",
       "      <td>9436.86</td>\n",
       "    </tr>\n",
       "    <tr>\n",
       "      <th>33</th>\n",
       "      <td>October</td>\n",
       "      <td>2019</td>\n",
       "      <td>97</td>\n",
       "      <td>9132.25</td>\n",
       "      <td>-279.42</td>\n",
       "      <td>-1572.55</td>\n",
       "      <td>7280.28</td>\n",
       "      <td>1631.25</td>\n",
       "      <td>8911.53</td>\n",
       "    </tr>\n",
       "    <tr>\n",
       "      <th>34</th>\n",
       "      <td>November</td>\n",
       "      <td>2019</td>\n",
       "      <td>272</td>\n",
       "      <td>23997.90</td>\n",
       "      <td>-776.84</td>\n",
       "      <td>-364.51</td>\n",
       "      <td>22856.55</td>\n",
       "      <td>4824.75</td>\n",
       "      <td>27681.30</td>\n",
       "    </tr>\n",
       "    <tr>\n",
       "      <th>35</th>\n",
       "      <td>December</td>\n",
       "      <td>2019</td>\n",
       "      <td>342</td>\n",
       "      <td>31183.90</td>\n",
       "      <td>-2269.51</td>\n",
       "      <td>-1311.18</td>\n",
       "      <td>27603.21</td>\n",
       "      <td>5703.25</td>\n",
       "      <td>33306.46</td>\n",
       "    </tr>\n",
       "  </tbody>\n",
       "</table>\n",
       "</div>"
      ],
      "text/plain": [
       "        Month  Year  Total Orders  Gross Sales  Discounts  Returns  Net Sales  \\\n",
       "0     January  2017            73      8861.50    -129.40  -448.45    8283.65   \n",
       "1    February  2017            56      6908.50    -104.70  -416.20    6387.60   \n",
       "2       March  2017            60      5778.50    -172.20 -1017.20    4589.10   \n",
       "3       April  2017            70      8814.00    -281.40     0.00    8532.60   \n",
       "4         May  2017            54      6677.00    -185.75  -253.80    6237.45   \n",
       "5        June  2017            68      9621.50    -234.45   -17.50    9369.55   \n",
       "6        July  2017            66      6480.00     -51.50  -469.20    5959.30   \n",
       "7      August  2017            55      8025.00    -258.90   -26.00    7740.10   \n",
       "8   September  2017            68      7075.00     -61.70  -281.00    6732.30   \n",
       "9     October  2017            59      5720.00     -88.00  -305.00    5327.00   \n",
       "10   November  2017            91     13025.00    -131.30  -323.85   12569.85   \n",
       "11   December  2017           116     10356.05    -149.85  -414.20    9792.00   \n",
       "12    January  2018            83      8923.00    -217.10   -26.25    8679.65   \n",
       "13   February  2018            69      6529.20    -161.35  -118.15    6249.70   \n",
       "14      March  2018            64      7442.70    -226.82    -8.80    7207.08   \n",
       "15      April  2018            81      9406.35    -232.28   -40.00    9134.07   \n",
       "16        May  2018            82      7493.90    -221.25 -1448.02    5824.63   \n",
       "17       June  2018           124     13260.80    -335.40 -1506.53   11418.87   \n",
       "18       July  2018           102      9274.95    -237.87  -689.98    8347.10   \n",
       "19     August  2018            82      7698.70    -140.57  -197.35    7360.78   \n",
       "20  September  2018            79     10582.85    -276.15     0.00   10306.70   \n",
       "21    October  2018            71      7014.50    -277.95  -294.75    6441.80   \n",
       "22   November  2018           140     12002.70    -414.45  -154.40   11433.85   \n",
       "23   December  2018           164     13683.50    -371.20  -928.35   12383.95   \n",
       "24    January  2019            87      7811.75    -261.97 -1250.35    6299.43   \n",
       "25   February  2019            63      6523.70    -288.70   -38.70    6196.30   \n",
       "26      March  2019            99     13075.50    -439.85  -981.00   11654.65   \n",
       "27      April  2019            92      6977.00    -285.40   -10.00    6681.60   \n",
       "28        May  2019            96     10082.25    -460.90  -173.35    9448.00   \n",
       "29       June  2019            85      7321.75    -186.02  -165.40    6970.33   \n",
       "30       July  2019            94      9739.20    -447.07  -908.75    8383.38   \n",
       "31     August  2019           105      8839.50    -201.67   -84.37    8553.46   \n",
       "32  September  2019            88      9077.45    -354.89  -853.35    7869.21   \n",
       "33    October  2019            97      9132.25    -279.42 -1572.55    7280.28   \n",
       "34   November  2019           272     23997.90    -776.84  -364.51   22856.55   \n",
       "35   December  2019           342     31183.90   -2269.51 -1311.18   27603.21   \n",
       "\n",
       "    Shipping  Total Sales  \n",
       "0    1088.30      9371.95  \n",
       "1     892.45      7280.05  \n",
       "2     707.43      5296.53  \n",
       "3    1068.30      9600.90  \n",
       "4     866.46      7103.91  \n",
       "5    1204.32     10573.87  \n",
       "6     807.36      6766.66  \n",
       "7     843.46      8583.56  \n",
       "8     907.32      7639.62  \n",
       "9     695.42      6022.42  \n",
       "10   1555.10     14124.95  \n",
       "11   1340.85     11132.85  \n",
       "12   1180.18      9859.83  \n",
       "13    908.91      7158.61  \n",
       "14   1226.92      8434.00  \n",
       "15   1387.56     10521.63  \n",
       "16   1234.95      7059.58  \n",
       "17   2124.49     13543.36  \n",
       "18   1627.03      9974.13  \n",
       "19   1404.03      8764.81  \n",
       "20   1634.33     11941.03  \n",
       "21   1262.45      7704.25  \n",
       "22   2237.05     13670.90  \n",
       "23   2552.20     14936.15  \n",
       "24   1313.78      7615.91  \n",
       "25   1121.85      7318.15  \n",
       "26   2115.10     13769.75  \n",
       "27   1342.45      8024.05  \n",
       "28   1768.20     11216.20  \n",
       "29   1356.80      8327.13  \n",
       "30   1631.40     10014.78  \n",
       "31   1724.75     10278.21  \n",
       "32   1567.65      9436.86  \n",
       "33   1631.25      8911.53  \n",
       "34   4824.75     27681.30  \n",
       "35   5703.25     33306.46  "
      ]
     },
     "execution_count": 5,
     "metadata": {},
     "output_type": "execute_result"
    }
   ],
   "source": [
    "brs_df"
   ]
  },
  {
   "cell_type": "markdown",
   "id": "1bf0bbf9",
   "metadata": {},
   "source": [
    "above is the complete dataset\n",
    "- The dataset looks odd considering discounts and returns runing into negative."
   ]
  },
  {
   "cell_type": "code",
   "execution_count": 7,
   "id": "e6543b08",
   "metadata": {},
   "outputs": [
    {
     "name": "stdout",
     "output_type": "stream",
     "text": [
      "<class 'pandas.core.frame.DataFrame'>\n",
      "RangeIndex: 36 entries, 0 to 35\n",
      "Data columns (total 9 columns):\n",
      " #   Column        Non-Null Count  Dtype  \n",
      "---  ------        --------------  -----  \n",
      " 0   Month         36 non-null     object \n",
      " 1   Year          36 non-null     int64  \n",
      " 2   Total Orders  36 non-null     int64  \n",
      " 3   Gross Sales   36 non-null     float64\n",
      " 4   Discounts     36 non-null     float64\n",
      " 5   Returns       36 non-null     float64\n",
      " 6   Net Sales     36 non-null     float64\n",
      " 7   Shipping      36 non-null     float64\n",
      " 8   Total Sales   36 non-null     float64\n",
      "dtypes: float64(6), int64(2), object(1)\n",
      "memory usage: 2.7+ KB\n"
     ]
    }
   ],
   "source": [
    "brs_df.info()"
   ]
  },
  {
   "cell_type": "markdown",
   "id": "e3ad24c9",
   "metadata": {},
   "source": [
    "The dataset appears clean as attributes are rightly named and did not displayed a null value"
   ]
  },
  {
   "cell_type": "code",
   "execution_count": 9,
   "id": "e607aa23",
   "metadata": {},
   "outputs": [
    {
     "data": {
      "text/html": [
       "<div>\n",
       "<style scoped>\n",
       "    .dataframe tbody tr th:only-of-type {\n",
       "        vertical-align: middle;\n",
       "    }\n",
       "\n",
       "    .dataframe tbody tr th {\n",
       "        vertical-align: top;\n",
       "    }\n",
       "\n",
       "    .dataframe thead th {\n",
       "        text-align: right;\n",
       "    }\n",
       "</style>\n",
       "<table border=\"1\" class=\"dataframe\">\n",
       "  <thead>\n",
       "    <tr style=\"text-align: right;\">\n",
       "      <th></th>\n",
       "      <th>Year</th>\n",
       "      <th>Total Orders</th>\n",
       "      <th>Gross Sales</th>\n",
       "      <th>Discounts</th>\n",
       "      <th>Returns</th>\n",
       "      <th>Net Sales</th>\n",
       "      <th>Shipping</th>\n",
       "      <th>Total Sales</th>\n",
       "    </tr>\n",
       "  </thead>\n",
       "  <tbody>\n",
       "    <tr>\n",
       "      <th>count</th>\n",
       "      <td>36.000000</td>\n",
       "      <td>36.000000</td>\n",
       "      <td>36.000000</td>\n",
       "      <td>36.000000</td>\n",
       "      <td>36.000000</td>\n",
       "      <td>36.000000</td>\n",
       "      <td>36.000000</td>\n",
       "      <td>36.000000</td>\n",
       "    </tr>\n",
       "    <tr>\n",
       "      <th>mean</th>\n",
       "      <td>2018.000000</td>\n",
       "      <td>97.138889</td>\n",
       "      <td>9844.926389</td>\n",
       "      <td>-311.493889</td>\n",
       "      <td>-474.958056</td>\n",
       "      <td>9058.474444</td>\n",
       "      <td>1579.391667</td>\n",
       "      <td>10637.941111</td>\n",
       "    </tr>\n",
       "    <tr>\n",
       "      <th>std</th>\n",
       "      <td>0.828079</td>\n",
       "      <td>57.458632</td>\n",
       "      <td>4936.386351</td>\n",
       "      <td>362.766989</td>\n",
       "      <td>488.820410</td>\n",
       "      <td>4497.185264</td>\n",
       "      <td>1011.170014</td>\n",
       "      <td>5475.621125</td>\n",
       "    </tr>\n",
       "    <tr>\n",
       "      <th>min</th>\n",
       "      <td>2017.000000</td>\n",
       "      <td>54.000000</td>\n",
       "      <td>5720.000000</td>\n",
       "      <td>-2269.510000</td>\n",
       "      <td>-1572.550000</td>\n",
       "      <td>4589.100000</td>\n",
       "      <td>695.420000</td>\n",
       "      <td>5296.530000</td>\n",
       "    </tr>\n",
       "    <tr>\n",
       "      <th>25%</th>\n",
       "      <td>2017.000000</td>\n",
       "      <td>68.000000</td>\n",
       "      <td>7059.875000</td>\n",
       "      <td>-300.375000</td>\n",
       "      <td>-867.200000</td>\n",
       "      <td>6428.250000</td>\n",
       "      <td>1083.300000</td>\n",
       "      <td>7633.692500</td>\n",
       "    </tr>\n",
       "    <tr>\n",
       "      <th>50%</th>\n",
       "      <td>2018.000000</td>\n",
       "      <td>82.500000</td>\n",
       "      <td>8850.500000</td>\n",
       "      <td>-236.160000</td>\n",
       "      <td>-299.875000</td>\n",
       "      <td>8076.430000</td>\n",
       "      <td>1341.650000</td>\n",
       "      <td>9404.405000</td>\n",
       "    </tr>\n",
       "    <tr>\n",
       "      <th>75%</th>\n",
       "      <td>2019.000000</td>\n",
       "      <td>97.500000</td>\n",
       "      <td>10150.700000</td>\n",
       "      <td>-169.487500</td>\n",
       "      <td>-73.277500</td>\n",
       "      <td>9534.000000</td>\n",
       "      <td>1632.132500</td>\n",
       "      <td>11153.687500</td>\n",
       "    </tr>\n",
       "    <tr>\n",
       "      <th>max</th>\n",
       "      <td>2019.000000</td>\n",
       "      <td>342.000000</td>\n",
       "      <td>31183.900000</td>\n",
       "      <td>-51.500000</td>\n",
       "      <td>0.000000</td>\n",
       "      <td>27603.210000</td>\n",
       "      <td>5703.250000</td>\n",
       "      <td>33306.460000</td>\n",
       "    </tr>\n",
       "  </tbody>\n",
       "</table>\n",
       "</div>"
      ],
      "text/plain": [
       "              Year  Total Orders   Gross Sales    Discounts      Returns  \\\n",
       "count    36.000000     36.000000     36.000000    36.000000    36.000000   \n",
       "mean   2018.000000     97.138889   9844.926389  -311.493889  -474.958056   \n",
       "std       0.828079     57.458632   4936.386351   362.766989   488.820410   \n",
       "min    2017.000000     54.000000   5720.000000 -2269.510000 -1572.550000   \n",
       "25%    2017.000000     68.000000   7059.875000  -300.375000  -867.200000   \n",
       "50%    2018.000000     82.500000   8850.500000  -236.160000  -299.875000   \n",
       "75%    2019.000000     97.500000  10150.700000  -169.487500   -73.277500   \n",
       "max    2019.000000    342.000000  31183.900000   -51.500000     0.000000   \n",
       "\n",
       "          Net Sales     Shipping   Total Sales  \n",
       "count     36.000000    36.000000     36.000000  \n",
       "mean    9058.474444  1579.391667  10637.941111  \n",
       "std     4497.185264  1011.170014   5475.621125  \n",
       "min     4589.100000   695.420000   5296.530000  \n",
       "25%     6428.250000  1083.300000   7633.692500  \n",
       "50%     8076.430000  1341.650000   9404.405000  \n",
       "75%     9534.000000  1632.132500  11153.687500  \n",
       "max    27603.210000  5703.250000  33306.460000  "
      ]
     },
     "execution_count": 9,
     "metadata": {},
     "output_type": "execute_result"
    }
   ],
   "source": [
    "brs_df.describe()"
   ]
  },
  {
   "cell_type": "markdown",
   "id": "d158dc48",
   "metadata": {},
   "source": [
    "from the stat above it could be observed that despite a negative discounts from the mean row a higher total sales was still recorded. Meanwhile the dataset returned a higher standard deviation which shows that there are significant fluctuations in sales over time."
   ]
  },
  {
   "cell_type": "code",
   "execution_count": 10,
   "id": "97a269cb",
   "metadata": {},
   "outputs": [
    {
     "data": {
      "text/plain": [
       "(36, 9)"
      ]
     },
     "execution_count": 10,
     "metadata": {},
     "output_type": "execute_result"
    }
   ],
   "source": [
    "brs_df.shape"
   ]
  },
  {
   "cell_type": "markdown",
   "id": "e06a47a6",
   "metadata": {},
   "source": [
    "36 row, and 9 columns the sample size is small and might not be sufficient enough for accurate analysis"
   ]
  },
  {
   "cell_type": "code",
   "execution_count": 11,
   "id": "9b9690cf",
   "metadata": {},
   "outputs": [],
   "source": [
    "columns = [i for i in brs_df.columns]"
   ]
  },
  {
   "cell_type": "markdown",
   "id": "d3200add",
   "metadata": {},
   "source": [
    "columns"
   ]
  },
  {
   "cell_type": "markdown",
   "id": "2f0a825c",
   "metadata": {},
   "source": [
    "### Using AI generate data dictionary\n",
    "\n",
    "- Month : The month in which the data is recorded\n",
    "- Year : The year in which the data is recorded\n",
    "- Total Orders: The total number of orders placed during the specified month and year.\n",
    "- Gross Sales: The total sales revenue generated before any deductions such as discounts or returns.\n",
    "- Discounts: The amount deducted from the gross sales due to discounts offered to customers.\n",
    "- Returns: The amount deducted from the gross sales due to returned items.\n",
    "- Net Sales: The total sales revenue after deducting discounts and returns from the gross sales.\n",
    "- Shipping : The amount charged for shipping products to customers.\n",
    "- Total Sales: The total revenue generated from sales after deducting discounts, returns, and adding shipping charges."
   ]
  },
  {
   "cell_type": "code",
   "execution_count": 13,
   "id": "4d7fc30e",
   "metadata": {},
   "outputs": [],
   "source": [
    "cat = brs_df.select_dtypes(include=['category', 'object'])\n",
    "cat_columns = [i for i in cat.columns]"
   ]
  },
  {
   "cell_type": "code",
   "execution_count": 14,
   "id": "0010e1e7",
   "metadata": {},
   "outputs": [
    {
     "data": {
      "text/plain": [
       "['Month']"
      ]
     },
     "execution_count": 14,
     "metadata": {},
     "output_type": "execute_result"
    }
   ],
   "source": [
    "cat_columns"
   ]
  },
  {
   "cell_type": "code",
   "execution_count": 17,
   "id": "1988ceb0",
   "metadata": {},
   "outputs": [
    {
     "name": "stdout",
     "output_type": "stream",
     "text": [
      "------------\n",
      "------------\n",
      "Month\n",
      "January      3\n",
      "February     3\n",
      "March        3\n",
      "April        3\n",
      "May          3\n",
      "June         3\n",
      "July         3\n",
      "August       3\n",
      "September    3\n",
      "October      3\n",
      "November     3\n",
      "December     3\n",
      "Name: count, dtype: int64\n"
     ]
    }
   ],
   "source": [
    "for i in cat_columns:\n",
    "    print('------------')\n",
    "    print('------------')\n",
    "    print(brs_df[i].value_counts())"
   ]
  },
  {
   "cell_type": "markdown",
   "id": "8b974393",
   "metadata": {},
   "source": [
    "### Data Cleaning"
   ]
  },
  {
   "cell_type": "code",
   "execution_count": 18,
   "id": "9a0957c7",
   "metadata": {},
   "outputs": [
    {
     "data": {
      "text/plain": [
       "Month           0\n",
       "Year            0\n",
       "Total Orders    0\n",
       "Gross Sales     0\n",
       "Discounts       0\n",
       "Returns         0\n",
       "Net Sales       0\n",
       "Shipping        0\n",
       "Total Sales     0\n",
       "dtype: int64"
      ]
     },
     "execution_count": 18,
     "metadata": {},
     "output_type": "execute_result"
    }
   ],
   "source": [
    "brs_df.isnull().sum()"
   ]
  },
  {
   "cell_type": "markdown",
   "id": "8ce8b8c5",
   "metadata": {},
   "source": [
    "There is no null value in the dataset which shows that all the attributes presented a value"
   ]
  },
  {
   "cell_type": "code",
   "execution_count": 20,
   "id": "bc9421c9",
   "metadata": {},
   "outputs": [
    {
     "data": {
      "text/plain": [
       "0"
      ]
     },
     "execution_count": 20,
     "metadata": {},
     "output_type": "execute_result"
    }
   ],
   "source": [
    "brs_df.duplicated().sum()"
   ]
  },
  {
   "cell_type": "markdown",
   "id": "c3d1ecd3",
   "metadata": {},
   "source": [
    "The dataset also returned zero duplicate which shows that there are no duplication of values"
   ]
  },
  {
   "cell_type": "code",
   "execution_count": 21,
   "id": "d106061c",
   "metadata": {},
   "outputs": [],
   "source": [
    "brs_df.to_csv('cleaned_business_retailsales.csv') # since the dataset is cleaned it can be exported"
   ]
  },
  {
   "cell_type": "markdown",
   "id": "2e3d0719",
   "metadata": {},
   "source": [
    "#### Data Exploration via Visualization"
   ]
  },
  {
   "cell_type": "code",
   "execution_count": 22,
   "id": "fb031d62",
   "metadata": {},
   "outputs": [
    {
     "data": {
      "text/plain": [
       "['Month']"
      ]
     },
     "execution_count": 22,
     "metadata": {},
     "output_type": "execute_result"
    }
   ],
   "source": [
    "cat_columns"
   ]
  },
  {
   "cell_type": "code",
   "execution_count": 24,
   "id": "c5fe82cd",
   "metadata": {},
   "outputs": [
    {
     "data": {
      "text/plain": [
       "Text(0.5, 1.0, 'Countplot of Total Sale')"
      ]
     },
     "execution_count": 24,
     "metadata": {},
     "output_type": "execute_result"
    },
    {
     "data": {
      "image/png": "[encoded data removed]",
      "text/plain": [
       "<Figure size 3000x800 with 1 Axes>"
      ]
     },
     "metadata": {},
     "output_type": "display_data"
    }
   ],
   "source": [
    "plt.figure(figsize=(30,8))\n",
    "sb.countplot(x='Total Sales', data=brs_df)\n",
    "plt.title('Countplot of Total Sale')"
   ]
  },
  {
   "cell_type": "code",
   "execution_count": 27,
   "id": "5c8d5c0d",
   "metadata": {},
   "outputs": [],
   "source": [
    "num = brs_df.select_dtypes(include=['float', 'int'])\n",
    "num_columns = [i for i in num.columns]"
   ]
  },
  {
   "cell_type": "code",
   "execution_count": 28,
   "id": "c77d22d5",
   "metadata": {},
   "outputs": [
    {
     "data": {
      "text/plain": [
       "['Year',\n",
       " 'Total Orders',\n",
       " 'Gross Sales',\n",
       " 'Discounts',\n",
       " 'Returns',\n",
       " 'Net Sales',\n",
       " 'Shipping',\n",
       " 'Total Sales']"
      ]
     },
     "execution_count": 28,
     "metadata": {},
     "output_type": "execute_result"
    }
   ],
   "source": [
    "num_columns"
   ]
  },
  {
   "cell_type": "code",
   "execution_count": 29,
   "id": "40602998",
   "metadata": {},
   "outputs": [
    {
     "data": {
      "image/png": "[encoded data removed]",
      "text/plain": [
       "<Figure size 640x480 with 1 Axes>"
      ]
     },
     "metadata": {},
     "output_type": "display_data"
    },
    {
     "data": {
      "image/png": "[encoded data removed]",
      "text/plain": [
       "<Figure size 640x480 with 1 Axes>"
      ]
     },
     "metadata": {},
     "output_type": "display_data"
    },
    {
     "data": {
      "image/png": "[encoded data removed]",
      "text/plain": [
       "<Figure size 640x480 with 1 Axes>"
      ]
     },
     "metadata": {},
     "output_type": "display_data"
    },
    {
     "data": {
      "image/png": "[encoded data removed]",
      "text/plain": [
       "<Figure size 640x480 with 1 Axes>"
      ]
     },
     "metadata": {},
     "output_type": "display_data"
    },
    {
     "data": {
      "image/png": "[encoded data removed]",
      "text/plain": [
       "<Figure size 640x480 with 1 Axes>"
      ]
     },
     "metadata": {},
     "output_type": "display_data"
    },
    {
     "data": {
      "image/png": "[encoded data removed]",
      "text/plain": [
       "<Figure size 640x480 with 1 Axes>"
      ]
     },
     "metadata": {},
     "output_type": "display_data"
    },
    {
     "data": {
      "image/png": "[encoded data removed]",
      "text/plain": [
       "<Figure size 640x480 with 1 Axes>"
      ]
     },
     "metadata": {},
     "output_type": "display_data"
    },
    {
     "data": {
      "image/png": "[encoded data removed]",
      "text/plain": [
       "<Figure size 640x480 with 1 Axes>"
      ]
     },
     "metadata": {},
     "output_type": "display_data"
    }
   ],
   "source": [
    "for column in num_columns:    \n",
    "    plt.hist(brs_df[column], bins=10, color='skyblue', edgecolor='black', alpha=0.7)\n",
    "    plt.title(f'Histogram of {column}')\n",
    "    plt.xlabel(column)\n",
    "    plt.ylabel('Gross Sales')\n",
    "    plt.show()"
   ]
  },
  {
   "cell_type": "raw",
   "id": "2575d6a6",
   "metadata": {},
   "source": [
    "from the histogram we could observed that the attribute are rightly skewed except for Discounts and re"
   ]
  }
 ],
 "metadata": {
  "kernelspec": {
   "display_name": "Python 3 (ipykernel)",
   "language": "python",
   "name": "python3"
  },
  "language_info": {
   "codemirror_mode": {
    "name": "ipython",
    "version": 3
   },
   "file_extension": ".py",
   "mimetype": "text/x-python",
   "name": "python",
   "nbconvert_exporter": "python",
   "pygments_lexer": "ipython3",
   "version": "3.11.5"
  }
 },
 "nbformat": 4,
 "nbformat_minor": 5
}
